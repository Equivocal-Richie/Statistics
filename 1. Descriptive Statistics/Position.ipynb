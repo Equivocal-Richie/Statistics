{
  "nbformat": 4,
  "nbformat_minor": 0,
  "metadata": {
    "colab": {
      "provenance": []
    },
    "kernelspec": {
      "name": "python3",
      "display_name": "Python 3"
    },
    "language_info": {
      "name": "python"
    }
  },
  "cells": [
    {
      "cell_type": "markdown",
      "source": [
        "# **Measures of Position**\n",
        "\n",
        "This notebook will help you understand the main concepts on the statistics part of measuring the position of data points (distance of data points relative to others) in a practical approach.\n",
        "\n",
        "<br>\n",
        "\n",
        "****\n",
        "The following will be explained:\n",
        "1. Percentiles\n",
        "2. Quartiles\n",
        "\n",
        "<br>\n",
        "\n",
        "****\n",
        "\n",
        "<br>\n",
        "\n",
        "# **Move Out! 🐱‍👤**\n"
      ],
      "metadata": {
        "id": "W7pkMXV2vOsH"
      }
    },
    {
      "cell_type": "code",
      "execution_count": 1,
      "metadata": {
        "id": "NUVDTCwPu0QX"
      },
      "outputs": [],
      "source": [
        "# Import Necessary Libraries\n",
        "import pandas as pd\n",
        "import numpy as np"
      ]
    },
    {
      "cell_type": "code",
      "source": [
        "# Add our dataframe and view the first 5 rows\n",
        "data = {\n",
        "    'CustomerID': [101, 102, 103, 104, 105],\n",
        "    'Age': [28, 35, 42, 29, 55],\n",
        "    'Gender': ['Male', 'Female', 'Male', 'Female', 'Male'],\n",
        "    'Purchase_Amount': [150.50, 200.75, 50.00, 320.10, 88.99],\n",
        "    'Product_Category': ['Electronics', 'Clothing', 'Electronics', 'Home Goods', 'Clothing'],\n",
        "    'Satisfaction_Rating': ['Good', 'Excellent', 'Poor', 'Excellent', 'Good']\n",
        "}\n",
        "df = pd.DataFrame(data)\n",
        "\n",
        "print(\"\\n Let's see the first 5 rows: \\n\")\n",
        "print(df.head())"
      ],
      "metadata": {
        "colab": {
          "base_uri": "https://localhost:8080/"
        },
        "id": "KGt6RKtqwfH3",
        "outputId": "e4cbd5d8-d6da-4fa1-9490-69b634ddd539"
      },
      "execution_count": 3,
      "outputs": [
        {
          "output_type": "stream",
          "name": "stdout",
          "text": [
            "\n",
            " Let's see the first 5 rows: \n",
            "\n",
            "   CustomerID  Age  Gender  Purchase_Amount Product_Category  \\\n",
            "0         101   28    Male           150.50      Electronics   \n",
            "1         102   35  Female           200.75         Clothing   \n",
            "2         103   42    Male            50.00      Electronics   \n",
            "3         104   29  Female           320.10       Home Goods   \n",
            "4         105   55    Male            88.99         Clothing   \n",
            "\n",
            "  Satisfaction_Rating  \n",
            "0                Good  \n",
            "1           Excellent  \n",
            "2                Poor  \n",
            "3           Excellent  \n",
            "4                Good  \n"
          ]
        }
      ]
    },
    {
      "cell_type": "code",
      "source": [
        "# For numerical columns\n",
        "numerical_cols = ['Age', 'Purchase_Amount']\n",
        "\n",
        "for col in numerical_cols:\n",
        "    print(f\"\\n--- {col} ---\")\n",
        "\n",
        "    # Calculate Quartiles using .quantile()\n",
        "    Q1 = df[col].quantile(0.25)\n",
        "    Q2_median = df[col].quantile(0.50) # This is the Median\n",
        "    Q3 = df[col].quantile(0.75)\n",
        "\n",
        "    print(f\"Q1 (25th percentile): {Q1:.2f}\")\n",
        "    print(f\"Q2 (50th percentile / Median): {Q2_median:.2f}\")\n",
        "    print(f\"Q3 (75th percentile): {Q3:.2f}\")\n",
        "\n",
        "    # Calculate other percentiles\n",
        "    perc_10 = df[col].quantile(0.10) # 10th percentile\n",
        "    perc_90 = df[col].quantile(0.90) # 90th percentile\n",
        "\n",
        "    print(f\"10th Percentile: {perc_10:.2f}\")\n",
        "    print(f\"90th Percentile: {perc_90:.2f}\")"
      ],
      "metadata": {
        "colab": {
          "base_uri": "https://localhost:8080/"
        },
        "id": "jO_s9d9ow6o5",
        "outputId": "13427cf3-2025-43f4-de2d-7e837f5ee897"
      },
      "execution_count": 4,
      "outputs": [
        {
          "output_type": "stream",
          "name": "stdout",
          "text": [
            "\n",
            "--- Age ---\n",
            "Q1 (25th percentile): 29.00\n",
            "Q2 (50th percentile / Median): 35.00\n",
            "Q3 (75th percentile): 42.00\n",
            "10th Percentile: 28.40\n",
            "90th Percentile: 49.80\n",
            "\n",
            "--- Purchase_Amount ---\n",
            "Q1 (25th percentile): 88.99\n",
            "Q2 (50th percentile / Median): 150.50\n",
            "Q3 (75th percentile): 200.75\n",
            "10th Percentile: 65.60\n",
            "90th Percentile: 272.36\n"
          ]
        }
      ]
    },
    {
      "cell_type": "code",
      "source": [
        "# Just to confirm Q2 is the Median\n",
        "print(f\"Median (using .median()): {df[col].median():.2f}\")"
      ],
      "metadata": {
        "colab": {
          "base_uri": "https://localhost:8080/"
        },
        "id": "LrRJ4nAixM2q",
        "outputId": "9aa0c710-40d1-4e01-daf4-9c2316eae3a8"
      },
      "execution_count": 7,
      "outputs": [
        {
          "output_type": "stream",
          "name": "stdout",
          "text": [
            "Median (using .median()): 150.50\n"
          ]
        }
      ]
    },
    {
      "cell_type": "code",
      "source": [],
      "metadata": {
        "id": "UV-wXGZVxTyE"
      },
      "execution_count": null,
      "outputs": []
    }
  ]
}