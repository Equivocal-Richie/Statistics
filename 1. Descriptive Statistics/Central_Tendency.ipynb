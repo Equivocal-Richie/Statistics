{
  "nbformat": 4,
  "nbformat_minor": 0,
  "metadata": {
    "colab": {
      "provenance": []
    },
    "kernelspec": {
      "name": "python3",
      "display_name": "Python 3"
    },
    "language_info": {
      "name": "python"
    }
  },
  "cells": [
    {
      "cell_type": "markdown",
      "source": [
        "# **Measures of Central Tendency**\n",
        "\n",
        "This notebook will help you understand the main concepts on the statistics part of measuring the central tendency of dataset (Where the data is clustered) in a practical approach.\n",
        "\n",
        "****\n",
        "<br>\n",
        "\n",
        "The following will be explained:\n",
        "\n",
        "\n",
        "*   Types of Data\n",
        "*   Mean\n",
        "*   Median\n",
        "*   Mode\n",
        "\n",
        "\n",
        "****\n",
        "\n",
        "\n",
        "## **Let's get to it!**\n",
        "\n"
      ],
      "metadata": {
        "id": "iWI9h9hF_aG0"
      }
    },
    {
      "cell_type": "code",
      "execution_count": 1,
      "metadata": {
        "id": "EhBTFK9p_Mzu"
      },
      "outputs": [],
      "source": [
        "# Import necessary libraries\n",
        "import numpy as np\n",
        "import pandas as pd"
      ]
    },
    {
      "cell_type": "code",
      "source": [
        "# Create a simple dataset using a dictionary\n",
        "data = {\n",
        "    'CustomerID': [101, 102, 103, 104, 105],\n",
        "    'Age': [28, 35, 42, 29, 55],\n",
        "    'Gender': ['Male', 'Female', 'Male', 'Female', 'Male'],\n",
        "    'Purchase_Amount': [150.50, 200.75, 50.00, 320.10, 88.99],\n",
        "    'Product_Category': ['Electronics', 'Clothing', 'Electronics', 'Home Goods', 'Clothing'],\n",
        "    'Satisfaction_Rating': ['Good', 'Excellent', 'Poor', 'Excellent', 'Good'] # Ordinal\n",
        "}\n",
        "\n",
        "df = pd.DataFrame(data)\n",
        "\n",
        "print(\"\\nLet's look at the first few rows:\\n\")\n",
        "print(df.head())"
      ],
      "metadata": {
        "colab": {
          "base_uri": "https://localhost:8080/"
        },
        "id": "ZUUBV8euBFi7",
        "outputId": "84e03a77-13b6-4d4d-99a8-bb786cbb55cd"
      },
      "execution_count": 6,
      "outputs": [
        {
          "output_type": "stream",
          "name": "stdout",
          "text": [
            "\n",
            "Let's look at the first few rows:\n",
            "\n",
            "   CustomerID  Age  Gender  Purchase_Amount Product_Category  \\\n",
            "0         101   28    Male           150.50      Electronics   \n",
            "1         102   35  Female           200.75         Clothing   \n",
            "2         103   42    Male            50.00      Electronics   \n",
            "3         104   29  Female           320.10       Home Goods   \n",
            "4         105   55    Male            88.99         Clothing   \n",
            "\n",
            "  Satisfaction_Rating  \n",
            "0                Good  \n",
            "1           Excellent  \n",
            "2                Poor  \n",
            "3           Excellent  \n",
            "4                Good  \n"
          ]
        }
      ]
    },
    {
      "cell_type": "code",
      "source": [
        "# Let's look at the data types pandas infers\n",
        "print(\"\\nLet's look at the data information:\\n\")\n",
        "print(df.info())"
      ],
      "metadata": {
        "colab": {
          "base_uri": "https://localhost:8080/"
        },
        "id": "VA8ysqRHBTTe",
        "outputId": "d69697cb-26c1-4a2a-c43c-95f85fd63215"
      },
      "execution_count": 7,
      "outputs": [
        {
          "output_type": "stream",
          "name": "stdout",
          "text": [
            "\n",
            "Let's look at the data information:\n",
            "\n",
            "<class 'pandas.core.frame.DataFrame'>\n",
            "RangeIndex: 5 entries, 0 to 4\n",
            "Data columns (total 6 columns):\n",
            " #   Column               Non-Null Count  Dtype  \n",
            "---  ------               --------------  -----  \n",
            " 0   CustomerID           5 non-null      int64  \n",
            " 1   Age                  5 non-null      int64  \n",
            " 2   Gender               5 non-null      object \n",
            " 3   Purchase_Amount      5 non-null      float64\n",
            " 4   Product_Category     5 non-null      object \n",
            " 5   Satisfaction_Rating  5 non-null      object \n",
            "dtypes: float64(1), int64(2), object(3)\n",
            "memory usage: 372.0+ bytes\n",
            "None\n"
          ]
        }
      ]
    },
    {
      "cell_type": "markdown",
      "source": [],
      "metadata": {
        "id": "Bl0g4sz7ERpw"
      }
    },
    {
      "cell_type": "markdown",
      "source": [
        "## **1. Understanding the data types columnwise:**\n",
        "\n",
        "* `CustomerID` - `int64` (interger) data type often used as an identifier\n",
        "* `Age` - `int64` (integer) data type; dicrete data (quantitative)\n",
        "* `Gender` - `object` (string) data type; nominal data (qualitative/categorical data)\n",
        "* `Purchase_Amount` - `float64` (float) data type; continuous data (quantitative)\n",
        "* `Product_Category` - `object` (string) data type; nominal data (qualitative/categorical data)\n",
        "* `Satisfactory_Rating` - `object` (string) data type; ordinal data (qualitative/categorical data)\n"
      ],
      "metadata": {
        "id": "ia3fzZ03B73J"
      }
    },
    {
      "cell_type": "markdown",
      "source": [],
      "metadata": {
        "id": "Wf7S3FPOESl_"
      }
    },
    {
      "cell_type": "code",
      "source": [
        "print(\"--- Measures of Central Tendency for Numerical Data ---\\n\")\n",
        "\n",
        "# 1. --- For Numerical Data (e.g., Age, Purchase_Amount) ---\n",
        "\n",
        "# Mean\n",
        "mean_age = df['Age'].mean()\n",
        "mean_purchase = df['Purchase_Amount'].mean()\n",
        "print(f\"Mean Age: {mean_age:.2f}\") # .2f for 2 decimal places\n",
        "print(f\"Mean Purchase Amount: {mean_purchase:.2f}\\n\")\n",
        "\n",
        "# Median\n",
        "median_age = df['Age'].median()\n",
        "median_purchase = df['Purchase_Amount'].median()\n",
        "print(f\"Median Age: {median_age:.2f}\")\n",
        "print(f\"Median Purchase Amount: {median_purchase:.2f}\\n\")\n",
        "\n",
        "# Mode (for numerical data - useful if specific values repeat often)\n",
        "mode_age = df['Age'].mode()\n",
        "mode_purchase = df['Purchase_Amount'].mode() # May return multiple if tied, or none if all unique\n",
        "print(f\"Mode Age: {mode_age.tolist()}\") # .tolist() to display nicely\n",
        "print(f\"Mode Purchase Amount: {mode_purchase.tolist()}\") # Note: floating points often unique"
      ],
      "metadata": {
        "colab": {
          "base_uri": "https://localhost:8080/"
        },
        "id": "CWjE7ISBBkt-",
        "outputId": "3dc6b6b7-556d-4aa3-c06a-2d2382fb3434"
      },
      "execution_count": 13,
      "outputs": [
        {
          "output_type": "stream",
          "name": "stdout",
          "text": [
            "--- Measures of Central Tendency for Numerical Data ---\n",
            "\n",
            "Mean Age: 37.80\n",
            "Mean Purchase Amount: 162.07\n",
            "\n",
            "Median Age: 35.00\n",
            "Median Purchase Amount: 150.50\n",
            "\n",
            "Mode Age: [28, 29, 35, 42, 55]\n",
            "Mode Purchase Amount: [50.0, 88.99, 150.5, 200.75, 320.1]\n"
          ]
        }
      ]
    },
    {
      "cell_type": "markdown",
      "source": [
        "## **Understanding the output**\n",
        "\n",
        "1. **Mean**\n",
        "\n",
        "Explains the average value in numerical data and here's what we learn from ours:<br>\n",
        "\n",
        "* `Age` - The average age of the customers is **37.80**\n",
        "* `Purchase_Amount` - The average spending amount on products by the customers is **162.07**\n",
        "\n",
        "<br>\n",
        "\n",
        "2. **Median**\n",
        "\n",
        "It shows the middle value in the data when sorted in ascending order and here's what we learn from ours:\n",
        "* `Age` - The median value for customer's age is **35.00**\n",
        "* `Purchase_Amount` - The median value for customer's purchase amount is **150.50**\n",
        "\n",
        "<br>\n",
        "\n",
        "3. **Mode**\n",
        "\n",
        "Shows the most frequently appeared value based on the number of times it appear and from our data we find that there are no mode values for the `Age` and `Purchase_Amount` categories hence the list with all the values presented for the categories respectively .\n",
        "\n",
        "<br>\n",
        "\n"
      ],
      "metadata": {
        "id": "0dubG39EJ0QG"
      }
    },
    {
      "cell_type": "code",
      "source": [
        "print(\"--- Measures of Central Tendency for Categorical Data ---\\n\")\n",
        "\n",
        "# --- For Categorical Data (e.g., Gender, Product_Category) ---\n",
        "# Note: Only Mode is appropriate for nominal categorical data\n",
        "\n",
        "mode_gender = df['Gender'].mode()\n",
        "mode_product = df['Product_Category'].mode()\n",
        "mode_satisfaction = df['Satisfaction_Rating'].mode()\n",
        "\n",
        "print(f\"Mode Gender: {mode_gender.tolist()}\")\n",
        "print(f\"Mode Product Category: {mode_product.tolist()}\")\n",
        "print(f\"Mode Satisfaction Rating: {mode_satisfaction.tolist()}\") # Even though ordinal, mode works"
      ],
      "metadata": {
        "colab": {
          "base_uri": "https://localhost:8080/"
        },
        "id": "bDpqDa9fE8dT",
        "outputId": "d01200af-c0db-48f5-99da-473f43248b8d"
      },
      "execution_count": 21,
      "outputs": [
        {
          "output_type": "stream",
          "name": "stdout",
          "text": [
            "--- Measures of Central Tendency for Categorical Data ---\n",
            "\n",
            "Mode Gender: ['Male']\n",
            "Mode Product Category: ['Clothing', 'Electronics']\n",
            "Mode Satisfaction Rating: ['Excellent', 'Good']\n"
          ]
        }
      ]
    },
    {
      "cell_type": "markdown",
      "source": [
        "## **Understanding the output**\n",
        "\n",
        "As we know that mode is the only measure to use for nominal categorical data (*categories with no inherent order*) of which it describes the value that frequently appears in the categories.<br>\n",
        "\n",
        "\n",
        "Let's understand the values in our output:\n",
        "* `Gender` category - **Male** customers appear more in our data.\n",
        "* `Product` category - We have a tie of **Clothing** and **Electronics** products being most purchased by customers in our data.\n",
        "* `Satisfaction Rating` category - Most customers rate **Excellent** and **Good** to the products.\n",
        "\n",
        "\n",
        "<br>\n"
      ],
      "metadata": {
        "id": "oxjsZ_WRHf6K"
      }
    },
    {
      "cell_type": "markdown",
      "source": [
        "## **Testing the effect of outliers to the Central Tendency Measures**"
      ],
      "metadata": {
        "id": "JtCV13kxOOer"
      }
    },
    {
      "cell_type": "code",
      "source": [
        "# Let's add an outlier (extreme values) to Age and see how it affects Mean vs Median\n",
        "df_with_outlier = df.copy()\n",
        "df_with_outlier.loc[5] = {'CustomerID': 106, 'Age': 200, 'Gender': 'Female', 'Purchase_Amount': 10000, 'Product_Category': 'Electronics', 'Satisfaction_Rating': 'Excellent'} # Add a row with extreme values\n",
        "print(df_with_outlier.head(6))\n",
        "\n",
        "print(\"\\n--- Measures with Outlier ---\\n\")\n",
        "print(f\"Mean Age (with outlier): {df_with_outlier['Age'].mean():.2f}\")\n",
        "print(f\"Median Age (with outlier): {df_with_outlier['Age'].median():.2f} \\n\")\n",
        "print(f\"Mean Purchase Amount (with outlier): {df_with_outlier['Purchase_Amount'].mean():.2f}\")\n",
        "print(f\"Median Purchase Amount (with outlier): {df_with_outlier['Purchase_Amount'].median():.2f} \\n\")"
      ],
      "metadata": {
        "colab": {
          "base_uri": "https://localhost:8080/"
        },
        "id": "J1YoV9eIF-Ow",
        "outputId": "dd0f8831-7013-469c-82f1-8adfcff1bee6"
      },
      "execution_count": 19,
      "outputs": [
        {
          "output_type": "stream",
          "name": "stdout",
          "text": [
            "   CustomerID  Age  Gender  Purchase_Amount Product_Category  \\\n",
            "0         101   28    Male           150.50      Electronics   \n",
            "1         102   35  Female           200.75         Clothing   \n",
            "2         103   42    Male            50.00      Electronics   \n",
            "3         104   29  Female           320.10       Home Goods   \n",
            "4         105   55    Male            88.99         Clothing   \n",
            "5         106  200  Female         10000.00      Electronics   \n",
            "\n",
            "  Satisfaction_Rating  \n",
            "0                Good  \n",
            "1           Excellent  \n",
            "2                Poor  \n",
            "3           Excellent  \n",
            "4                Good  \n",
            "5           Excellent  \n",
            "\n",
            "--- Measures with Outlier ---\n",
            "\n",
            "Mean Age (with outlier): 64.83\n",
            "Median Age (with outlier): 38.50 \n",
            "\n",
            "Mean Purchase Amount (with outlier): 1801.72\n",
            "Median Purchase Amount (with outlier): 175.62 \n",
            "\n"
          ]
        }
      ]
    },
    {
      "cell_type": "markdown",
      "source": [
        "## **Understanding the output**\n",
        "\n",
        "1. **Mean**\n",
        "\n",
        "Since mean is sensitive to outliers and can potentially skew the results hence as observed with the drastic changes in the values:\n",
        "* `Age` mean values moving from 37.80 to 64.83 (because of the unusual age [200] of CustomerId - 106 that skews the calculation)\n",
        "* `Purchase_Amount` mean values moving from 162.07 to 1801.72 (because of the huge purchase amount [10000] of CustomerId - 106 that skews the calculation)\n",
        "\n",
        "<br>\n",
        "\n",
        "2. **Median**\n",
        "\n",
        "Median is usually less affected by outliers hence explaining the small margin differences from before and after the outlier was introduced as seen below:\n",
        "\n",
        "* `Age` median value moved from 35.00 to 38.50\n",
        "* `Purchase_Amount` median value moved from 150.50 to 175.62\n",
        "\n",
        "<br>\n",
        "\n",
        "****\n",
        "\n",
        "<br>\n",
        "\n",
        "## **Conclusion**\n",
        "\n",
        "**Median** can be used to measure the central tendency of data with outliers while **Mean** can't for better accurate measure without skewness. Hence before working with data it's important to check for outliers in order to pick the right measure to use with one's data."
      ],
      "metadata": {
        "id": "XxtZePtMNuRH"
      }
    },
    {
      "cell_type": "markdown",
      "source": [
        "# **The End!**\n",
        "\n",
        "Thank you for following till the end and hopefully you've grasped the concepts along the way. For more on the **Math in Data Science Series** you can check out my socials and follow me for more learning insights.\n",
        "\n",
        "[**LinkedIn**](https://www.linkedin.com/in/richard-muchoki-2408b7205/)<br>\n",
        "[**GitHub**](https://github.com/Equivocal-Richie)<br>\n",
        "[**Portfolio**](https://richardmuchoki.vercel.app/)\n"
      ],
      "metadata": {
        "id": "yNZkD1zuSmx4"
      }
    },
    {
      "cell_type": "code",
      "source": [],
      "metadata": {
        "id": "xK3f7XSYGp9H"
      },
      "execution_count": null,
      "outputs": []
    }
  ]
}