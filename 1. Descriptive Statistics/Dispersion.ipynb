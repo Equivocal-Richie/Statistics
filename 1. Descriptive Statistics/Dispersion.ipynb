{
  "nbformat": 4,
  "nbformat_minor": 0,
  "metadata": {
    "colab": {
      "provenance": []
    },
    "kernelspec": {
      "name": "python3",
      "display_name": "Python 3"
    },
    "language_info": {
      "name": "python"
    }
  },
  "cells": [
    {
      "cell_type": "markdown",
      "source": [
        "# **Measures of Dispersion**\n",
        "\n",
        "This notebook will help you understand the main concepts on the statistics part of measuring the dispersion of dataset (How the data is spread) in a practical approach.\n",
        "\n",
        "<br>\n",
        "\n",
        "****\n",
        "The following will be explained:\n",
        "\n",
        "1. Range\n",
        "2. Variance\n",
        "3. Standard Deviation\n",
        "4. Interquartile Range (IQR)\n",
        "\n",
        "<br>\n",
        "\n",
        "****\n",
        "\n",
        "# **Let's Go!**"
      ],
      "metadata": {
        "id": "sYZoDUWct_NM"
      }
    },
    {
      "cell_type": "code",
      "execution_count": 1,
      "metadata": {
        "id": "GRr47Ff2tr4Q"
      },
      "outputs": [],
      "source": [
        "# Import Necessary Libraries\n",
        "import pandas as pd\n",
        "import numpy as np"
      ]
    },
    {
      "cell_type": "code",
      "source": [
        "# Our DataFrame\n",
        "data = {\n",
        "    'CustomerID': [101, 102, 103, 104, 105],\n",
        "    'Age': [28, 35, 42, 29, 55],\n",
        "    'Gender': ['Male', 'Female', 'Male', 'Female', 'Male'],\n",
        "    'Purchase_Amount': [150.50, 200.75, 50.00, 320.10, 88.99],\n",
        "    'Product_Category': ['Electronics', 'Clothing', 'Electronics', 'Home Goods', 'Clothing'],\n",
        "    'Satisfaction_Rating': ['Good', 'Excellent', 'Poor', 'Excellent', 'Good']\n",
        "}\n",
        "df = pd.DataFrame(data)\n",
        "\n",
        "print(\"\\nLet's look at the first few rows:\\n\")\n",
        "print(df.head())"
      ],
      "metadata": {
        "colab": {
          "base_uri": "https://localhost:8080/"
        },
        "id": "lEAotDLkv_Vb",
        "outputId": "a3c7bed7-a4e0-4b95-d8a4-cc28f665138e"
      },
      "execution_count": 3,
      "outputs": [
        {
          "output_type": "stream",
          "name": "stdout",
          "text": [
            "\n",
            "Let's look at the first few rows:\n",
            "\n",
            "   CustomerID  Age  Gender  Purchase_Amount Product_Category  \\\n",
            "0         101   28    Male           150.50      Electronics   \n",
            "1         102   35  Female           200.75         Clothing   \n",
            "2         103   42    Male            50.00      Electronics   \n",
            "3         104   29  Female           320.10       Home Goods   \n",
            "4         105   55    Male            88.99         Clothing   \n",
            "\n",
            "  Satisfaction_Rating  \n",
            "0                Good  \n",
            "1           Excellent  \n",
            "2                Poor  \n",
            "3           Excellent  \n",
            "4                Good  \n"
          ]
        }
      ]
    },
    {
      "cell_type": "code",
      "source": [
        "print(\"\\n--- Measures of Dispersion ---\\n\")\n",
        "\n",
        "# For numerical columns\n",
        "numerical_cols = ['Age', 'Purchase_Amount']\n",
        "\n",
        "for col in numerical_cols:\n",
        "    print(f\"\\n--- {col} ---\")\n",
        "\n",
        "    # Range\n",
        "    data_range = df[col].max() - df[col].min()\n",
        "    print(f\"Range: {data_range:.2f}\")\n",
        "\n",
        "    # Variance (Sample Variance is default in pandas)\n",
        "    data_variance = df[col].var()\n",
        "    print(f\"Variance: {data_variance:.2f}\")\n",
        "\n",
        "    # Standard Deviation (Sample Standard Deviation is default in pandas)\n",
        "    data_std_dev = df[col].std()\n",
        "    print(f\"Standard Deviation: {data_std_dev:.2f}\")\n",
        "\n",
        "    # Interquartile Range (IQR) - requires finding quartiles\n",
        "    Q1 = df[col].quantile(0.25)\n",
        "    Q3 = df[col].quantile(0.75)\n",
        "    iqr = Q3 - Q1\n",
        "    print(f\"Q1 (25th percentile): {Q1:.2f}\")\n",
        "    print(f\"Q3 (75th percentile): {Q3:.2f}\")\n",
        "    print(f\"IQR (Q3 - Q1): {iqr:.2f}\")"
      ],
      "metadata": {
        "colab": {
          "base_uri": "https://localhost:8080/"
        },
        "id": "hLlaN6nGwR-u",
        "outputId": "175e69fa-f6be-4b42-a6d7-bc7e10b97d64"
      },
      "execution_count": 4,
      "outputs": [
        {
          "output_type": "stream",
          "name": "stdout",
          "text": [
            "\n",
            "--- Measures of Dispersion ---\n",
            "\n",
            "\n",
            "--- Age ---\n",
            "Range: 27.00\n",
            "Variance: 123.70\n",
            "Standard Deviation: 11.12\n",
            "Q1 (25th percentile): 29.00\n",
            "Q3 (75th percentile): 42.00\n",
            "IQR (Q3 - Q1): 13.00\n",
            "\n",
            "--- Purchase_Amount ---\n",
            "Range: 270.10\n",
            "Variance: 11125.96\n",
            "Standard Deviation: 105.48\n",
            "Q1 (25th percentile): 88.99\n",
            "Q3 (75th percentile): 200.75\n",
            "IQR (Q3 - Q1): 111.76\n"
          ]
        }
      ]
    },
    {
      "cell_type": "markdown",
      "source": [
        "# **Testing the Effects of Outliers to Dispersion Measures**"
      ],
      "metadata": {
        "id": "m-G38zRnw6ok"
      }
    },
    {
      "cell_type": "code",
      "source": [
        "# Let's see how Range and Std Dev are affected by outliers\n",
        "df_with_outlier = df.copy()\n",
        "df_with_outlier.loc[5] = {'CustomerID': 106, 'Age': 200, 'Gender': 'Female', 'Purchase_Amount': 10000, 'Product_Category': 'Electronics', 'Satisfaction_Rating': 'Excellent'}\n",
        "\n",
        "print(\"\\n--- Measures of Dispersion with Outlier ---\")\n",
        "for col in numerical_cols:\n",
        "     print(f\"\\n--- {col} (with outlier) ---\")\n",
        "     print(f\"Range: {df_with_outlier[col].max() - df_with_outlier[col].min():.2f}\")\n",
        "     print(f\"Standard Deviation: {df_with_outlier[col].std():.2f}\") # std is sensitive to outliers\n",
        "     Q1_outlier = df_with_outlier[col].quantile(0.25)\n",
        "     Q3_outlier = df_with_outlier[col].quantile(0.75)\n",
        "     iqr_outlier = Q3_outlier - Q1_outlier\n",
        "     print(f\"IQR: {iqr_outlier:.2f}\") # IQR is robust to outliers"
      ],
      "metadata": {
        "colab": {
          "base_uri": "https://localhost:8080/"
        },
        "id": "I7KkEOcdwmsU",
        "outputId": "3ca28f12-f80b-492a-b2f9-ec7314392d27"
      },
      "execution_count": 5,
      "outputs": [
        {
          "output_type": "stream",
          "name": "stdout",
          "text": [
            "\n",
            "--- Measures of Dispersion with Outlier ---\n",
            "\n",
            "--- Age (with outlier) ---\n",
            "Range: 172.00\n",
            "Standard Deviation: 66.96\n",
            "IQR: 21.25\n",
            "\n",
            "--- Purchase_Amount (with outlier) ---\n",
            "Range: 9950.00\n",
            "Standard Deviation: 4017.43\n",
            "IQR: 185.90\n"
          ]
        }
      ]
    },
    {
      "cell_type": "code",
      "source": [],
      "metadata": {
        "id": "i3SeJ9TZxhnB"
      },
      "execution_count": null,
      "outputs": []
    }
  ]
}