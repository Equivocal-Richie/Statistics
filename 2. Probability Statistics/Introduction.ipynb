{
  "nbformat": 4,
  "nbformat_minor": 0,
  "metadata": {
    "colab": {
      "provenance": []
    },
    "kernelspec": {
      "name": "python3",
      "display_name": "Python 3"
    },
    "language_info": {
      "name": "python"
    }
  },
  "cells": [
    {
      "cell_type": "markdown",
      "source": [
        "# **Introduction to Probability Statistics**\n",
        "- Probability basically is the measure of likelihood of an event to occur or happen.\n",
        "\n",
        "## **Terminologies:**\n",
        "- `Experiment` - process that leads to a well defined outcomes eg. flipping a coin, observing customer purchases\n",
        "- `Outcome` - result of an experiment eg. customer buys product A, getting 30 tails\n",
        "- `Sample Space` - possible outcomes of an experiment eg. {Heads,Tails} for rolling a die {1,2,3,4,5,6}\n",
        "- `Event(E)` - subset of a sample space eg. event numbers representing heads {2,4,6}\n",
        "\n",
        "## **Types of Probability:**\n",
        "1. `A Priori (Classical):` - Based on logical reasoning or known characteristics of an experiment eg. getting a 3 from a fair die {1,2,3,4,5,6} is 1/6.\n",
        "2. `A Posteriori (Emperical):` - Based on observations from an experiment or historical data eg. When a coin is flipped 100 times and you get 34 tails the empirical probability for tails is equal to 34/100 = 0.34\n",
        "3. `Subjective:` - Based on someone's experience or personal judgement eg A doctor predicting the survival rate of a patient based on previous treatment experience.\n",
        "\n",
        "<br>\n",
        "\n",
        "## **Have fun experimenting!!! Cheers.**"
      ],
      "metadata": {
        "id": "RgP5_ko__9lP"
      }
    },
    {
      "cell_type": "code",
      "execution_count": 1,
      "metadata": {
        "id": "33SN5d3L_1xW"
      },
      "outputs": [],
      "source": [
        "# Import necessary libraries\n",
        "import random # For simulating random events\n",
        "from collections import Counter # To count occurrences"
      ]
    },
    {
      "cell_type": "code",
      "source": [
        "print(\"\\n--- Introduction to Probability in Python ---\\n\")\n",
        "\n",
        "# --- Experiment: Rolling a fair six-sided die ---\n",
        "sample_space_die = {1, 2, 3, 4, 5, 6}\n",
        "print(f\"1. Sample Space for a die roll: {sample_space_die}\\n\")\n",
        "\n",
        "# Event: Getting an even number\n",
        "event_even_number = {2, 4, 6}\n",
        "print(f\"2.1. Event: Getting an even number: {event_even_number}\\n\")\n",
        "\n",
        "# Event: Getting an odd number\n",
        "event_odd_number = {1, 3, 5}\n",
        "print(f\"2.2. Event: Getting an odd number: {event_odd_number}\\n\")\n",
        "\n",
        "# Classical Probability of getting an even number\n",
        "classical_prob_even = len(event_even_number) / len(sample_space_die)\n",
        "print(f\"3. Classical Probability of getting an even number: {classical_prob_even:.2f}\\n\")"
      ],
      "metadata": {
        "colab": {
          "base_uri": "https://localhost:8080/"
        },
        "id": "a0KJgUXAELJH",
        "outputId": "cd44a62e-c79d-46e1-a690-46d3cb7431ef"
      },
      "execution_count": 11,
      "outputs": [
        {
          "output_type": "stream",
          "name": "stdout",
          "text": [
            "\n",
            "--- Introduction to Probability in Python ---\n",
            "\n",
            "1. Sample Space for a die roll: {1, 2, 3, 4, 5, 6}\n",
            "\n",
            "2.1. Event: Getting an even number: {2, 4, 6}\n",
            "\n",
            "2.2. Event: Getting an odd number: {1, 3, 5}\n",
            "\n",
            "3. Classical Probability of getting an even number: 0.50\n",
            "\n"
          ]
        }
      ]
    },
    {
      "cell_type": "code",
      "source": [
        "# --- Empirical Probability: Simulating die rolls ---\n",
        "num_trials = 1000 # Number of times we roll the die\n",
        "rolls = []\n",
        "for _ in range(num_trials):\n",
        "    roll = random.choice(list(sample_space_die)) # Simulate rolling the die\n",
        "    rolls.append(roll)\n",
        "\n",
        "# Count occurrences of even numbers\n",
        "even_counts = 0\n",
        "for r in rolls:\n",
        "    if r in event_even_number:\n",
        "        even_counts += 1\n",
        "\n",
        "empirical_prob_even = even_counts / num_trials\n",
        "print(f\"\\nEmpirical Probability (from {num_trials} trials) of getting an even number: {empirical_prob_even:.2f}\\n\")\n",
        "\n",
        "# Using Counter for more advanced counting\n",
        "roll_counts = Counter(rolls)\n",
        "print(f\"Counts of each roll: {roll_counts}\")"
      ],
      "metadata": {
        "colab": {
          "base_uri": "https://localhost:8080/"
        },
        "id": "P5AZHjEvETYH",
        "outputId": "428ffe0b-22f6-415f-fe25-10cd92a17b68"
      },
      "execution_count": 10,
      "outputs": [
        {
          "output_type": "stream",
          "name": "stdout",
          "text": [
            "\n",
            "Empirical Probability (from 1000 trials) of getting an even number: 0.48\n",
            "\n",
            "Counts of each roll: Counter({5: 177, 1: 174, 2: 172, 3: 170, 6: 154, 4: 153})\n"
          ]
        }
      ]
    },
    {
      "cell_type": "code",
      "source": [
        "# Another example: Flipping a coin\n",
        "num_flips = 10000\n",
        "heads_count = 0\n",
        "for _ in range(num_flips):\n",
        "    outcome = random.choice(['Heads', 'Tails'])\n",
        "    if outcome == 'Heads':\n",
        "        heads_count += 1\n",
        "\n",
        "empirical_prob_heads = heads_count / num_flips\n",
        "print(f\"\\n Empirical Probability (from {num_flips} coin flips) of getting Heads: {empirical_prob_heads:.2f}\")"
      ],
      "metadata": {
        "colab": {
          "base_uri": "https://localhost:8080/"
        },
        "id": "enp2476XGtQm",
        "outputId": "3346eb29-1eb8-4fbe-b7db-79ff7a20ad8e"
      },
      "execution_count": 12,
      "outputs": [
        {
          "output_type": "stream",
          "name": "stdout",
          "text": [
            "\n",
            " Empirical Probability (from 10000 coin flips) of getting Heads: 0.50\n"
          ]
        }
      ]
    },
    {
      "cell_type": "code",
      "source": [],
      "metadata": {
        "id": "oz4rxCyTHMch"
      },
      "execution_count": null,
      "outputs": []
    }
  ]
}